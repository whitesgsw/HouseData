{
 "cells": [
  {
   "cell_type": "code",
   "execution_count": 4,
   "metadata": {
    "collapsed": true
   },
   "outputs": [],
   "source": [
    "from bs4 import BeautifulSoup"
   ]
  },
  {
   "cell_type": "code",
   "execution_count": 27,
   "metadata": {},
   "outputs": [],
   "source": [
    "def searchUrl():\n",
    "    file = open(\"search link.txt\")\n",
    "    url = file.read()\n",
    "    return(url)\n",
    "\n",
    "url = searchUrl() #global url variable\n",
    "\n",
    "def pageDownload(url):\n",
    "    from urllib.request import urlopen\n",
    "    page_query = urlopen(url)\n",
    "    page_content = page_query.read()\n",
    "    return(page_content)\n",
    "\n",
    "\n",
    "page_content = pageDownload(url)\n"
   ]
  },
  {
   "cell_type": "code",
   "execution_count": 35,
   "metadata": {},
   "outputs": [],
   "source": [
    "import requests\n",
    "page = requests.get(url)"
   ]
  },
  {
   "cell_type": "code",
   "execution_count": 36,
   "metadata": {},
   "outputs": [],
   "source": [
    "page.content\n",
    "soup = BeautifulSoup(page.content, 'html.parser')"
   ]
  },
  {
   "cell_type": "code",
   "execution_count": 40,
   "metadata": {},
   "outputs": [
    {
     "data": {
      "text/plain": [
       "[<a href=\"#DSContents\" id=\"skipToContent\">Skip to Main Content</a>,\n",
       " <a class=\"rui-main-logo logo\" href=\"https://www.realestate.com.au/buy\" title=\"realestate.com.au homepage\"><img alt=\"realestate.com.au\" src=\"https://s1.rui.au.reastatic.net/rui-static/img/rea-logo-v4.png\"/></a>,\n",
       " <a href=\"https://www.realestate.com.au/my-real-estate/login\" id=\"myrea-sign-in\">Sign In</a>,\n",
       " <a class=\"rui-button-brand registerLink\" href=\"https://www.realestate.com.au/my-real-estate/register\" id=\"myrea-register\">Join</a>,\n",
       " <a href=\"https://www.realestate.com.au/buy\" tabindex=\"7\" title=\"Real estate and property for sale\"><span>Buy</span></a>,\n",
       " <a href=\"https://www.realestate.com.au/rent\" tabindex=\"8\" title=\"Rental properties\"><span>Rent</span></a>,\n",
       " <a href=\"/invest\" tabindex=\"9\" title=\"Property investment data\"><span>Invest</span></a>,\n",
       " <a href=\"https://www.realestate.com.au/sold\" tabindex=\"10\" title=\"Sold properties\"><span>Sold</span></a>,\n",
       " <a href=\"/share\" title=\"Share accommodation\"><span>Share</span></a>,\n",
       " <a href=\"/new-homes/\" tabindex=\"11\" title=\"New homes, land estates &amp; off the plan apartments\"><span>New homes</span></a>,\n",
       " <a alt=\"Find a real estate agent\" href=\"/find-agent\" tabindex=\"12\" title=\"Find a real estate agent\"><span>Find agents</span></a>,\n",
       " <a href=\"/lifestyle/\" title=\"Lifestyle\"><span>Lifestyle</span></a>,\n",
       " <a href=\"/news/\" tabindex=\"13\" title=\"Real estate news\"><span>News</span></a>,\n",
       " <a alt=\"Commercial real estate for sale and lease\" href=\"http://www.realcommercial.com.au/\" tabindex=\"14\" target=\"_blank\" title=\"Commercial real estate for sale and lease\"><span>Commercial</span></a>,\n",
       " <a class=\"rui-icon rui-icon-save-hollow\" href=\"https://www.realestate.com.au/my-real-estate/saved-search/subscribe?searchType=saved&amp;prop_activeSort=price-desc%0A&amp;prop_where=west+perth,+wa+6005%3B+floreat,+wa+6014%3B+leederville,+wa+6007%3B+cottesloe,+wa+6011%3B+north+perth,+wa+6006&amp;prop_channel=rent&amp;prop_listingType=rent&amp;prop_searchView=list&amp;prop_domain=www.realestate.com.au&amp;prop_userWhere=west+perth,+wa+6005%3B+floreat,+wa+6014%3B+leederville,+wa+6007%3B+cottesloe,+wa+6011%3B+north+perth,+wa+6006&amp;prop_resolvedLocations=%7CWest+Perth,+WA+6005%7CFloreat,+WA+6014%7CLeederville,+WA+6007%7CCottesloe,+WA+6011%7CNorth+Perth,+WA+6006%7C&amp;prop_resolvedLocationCodes=%7CS-6419%7CS-6435%7CS-79442%7CS-6432%7CS-79417%7C&amp;prop_resolvedSurroundingLocationCodes=%7CS-79447%7CS-6425%7CS-6436%7CS-6415%7CS-8447%7CS-6440%7CS-6437%7CS-6416%7CS-6427%7CS-6497%7CS-6499%7CS-6423%7CS-6422%7CS-79457%7CS-6417%7CS-8448%7CS-6535%7CS-6449%7CS-6447%7CS-6439%7CS-6442%7CS-6438%7CS-16099%7CS-6430%7CS-6426%7CS-6434%7CS-6676%7CS-6428%7CS-6431%7CS-6433%7CS-6537%7C&amp;actLike=get\" id=\"saveSearch\" title=\"Save this search\">Save search</a>,\n",
       " <a href=\"#\" rel=\"toggleOptionRefinements\" tabindex=\"7\">More refinements<span class=\"rui-icon rui-icon-arrow-down\"></span></a>,\n",
       " <a class=\"rui-icon rui-icon-facebook\" href=\"https://www.facebook.com/realestateAus\" title=\"realestate.com.au Facebook\"><span class=\"rui-visuallyhidden\">Facebook</span></a>,\n",
       " <a class=\"rui-icon rui-icon-twitter\" href=\"https://twitter.com/realestate_au\" title=\"realestate.com.au Twitter\"><span class=\"rui-visuallyhidden\">Twitter</span></a>,\n",
       " <a class=\"rui-icon rui-icon-pinterest\" href=\"http://www.pinterest.com/realestateau/\" title=\"realestate.com.au Pinterest\"><span class=\"rui-visuallyhidden\">Pinterest</span></a>,\n",
       " <a class=\"rui-icon rui-icon-linkedin\" href=\"http://www.linkedin.com/company/rea-group\" title=\"realestate.com.au LinkedIn\"><span class=\"rui-visuallyhidden\">LinkedIn</span></a>,\n",
       " <a class=\"rui-icon rui-icon-youtube\" href=\"http://www.youtube.com/user/thereagroup\" title=\"realestate.com.au YouTube\"><span class=\"rui-visuallyhidden\">YouTube</span></a>,\n",
       " <a class=\"rui-icon rui-icon-googleplus\" href=\"http://plus.google.com/+realestatecomau\" title=\"realestate.com.au Google+\"><span class=\"rui-visuallyhidden\">Google+</span></a>,\n",
       " <a href=\"https://about.realestate.com.au/advertise/\" title=\"Advertise with realestate.com.au\">Advertise with us</a>,\n",
       " <a href=\"https://about.realestate.com.au/contact-us/\" title=\"Contact realestate.com.au\">Contact us</a>,\n",
       " <a href=\"https://agentadmin.realestate.com.au/home\" title=\"Agent administration\">Agent admin</a>,\n",
       " <a href=\"http://media.realestate.com.au\" title=\"realestate.com.au media sales\">Media sales</a>,\n",
       " <a href=\"https://about.realestate.com.au/terms-use/\" title=\"Legal\">Legal</a>,\n",
       " <a href=\"https://www.realestate.com.au/opt-out/\" title=\"Opt out\">Opt out</a>,\n",
       " <a href=\"https://about.realestate.com.au/privacy/\" title=\"Privacy policy\">Privacy</a>,\n",
       " <a href=\"https://about.realestate.com.au/sitemap/\" title=\"realestate.com.au site map\">Site map</a>,\n",
       " <a href=\"http://careers.realestate.com.au/\" title=\"Jobs at realestate.com.au\">Careers</a>,\n",
       " <a href=\"https://www.realestate.com.au/opt-out/\">Opt Out</a>,\n",
       " <a class=\"reagroup rui-footer-rea-site-img\" href=\"http://www.rea-group.com\" title=\"REA Group corporate website\"><span class=\"rui-visuallyhidden\">REA Group corporate website</span> <span class=\"rui-icon rui-icon-arrow-right\"></span></a>,\n",
       " <a class=\"rui-footer-rea-site-img reawebsite\" href=\"http://www.realestate.com.au\" title=\"Real estate to buy and rent\"><span class=\"rui-visuallyhidden\">Real estate to buy and rent</span> <span class=\"rui-icon rui-icon-arrow-right\"></span></a>,\n",
       " <a class=\"rui-footer-rea-site-img reacommercial\" href=\"http://www.realcommercial.com.au\" title=\"Search for commercial real estate\"><span class=\"rui-visuallyhidden\">Search for commercial real estate</span> <span class=\"rui-icon rui-icon-arrow-right\"></span></a>,\n",
       " <a class=\"rui-footer-rea-site-img spacely\" href=\"https://www.spacely.com.au/\" title=\"Search short-term and shared work spaces\"><span class=\"rui-visuallyhidden\">Search short-term and shared work spaces</span> <span class=\"rui-icon rui-icon-arrow-right\"></span></a>,\n",
       " <a class=\"rui-footer-rea-site-img flatmates\" href=\"https://flatmates.com.au/\" title=\"Australia's biggest share accommodation site\"><span class=\"rui-visuallyhidden\">Australia's biggest share accommodation site</span> <span class=\"rui-icon rui-icon-arrow-right\"></span></a>,\n",
       " <a href=\"http://www.myfun.com/\" title=\"Property for sale and rent in China\">China</a>,\n",
       " <a href=\"http://www.iproperty.com.my/\" title=\"Property for sale and rent in Malaysia\">Malaysia</a>,\n",
       " <a href=\"http://www.iproperty.com.sg/\" title=\"Property for sale and rent in Singapore\">Singapore</a>,\n",
       " <a href=\"http://www.gohome.com.hk/\" title=\"Property for sale and rent in Hong Kong\">Hong Kong</a>,\n",
       " <a href=\"http://www.rumah123.com/\" title=\"Property for sale and rent in Indonesia\">Indonesia</a>,\n",
       " <a href=\"http://thinkofliving.com/\" title=\"Property for sale and rent in Thailand\">Thailand</a>,\n",
       " <a href=\"http://www.iproperty.com.ph/\" title=\"Property for sale and rent in Philippines\">Philippines</a>,\n",
       " <a href=\"http://www.gohome.com.mo/\" title=\"Property for sale and rent in Macau\">Macau</a>,\n",
       " <a href=\"https://housing.com/\" title=\"Property for sale and rent in India\">India</a>,\n",
       " <a href=\"http://www.news.com.au/\" target=\"_blank\" title=\"Latest news\">news.com.au</a>,\n",
       " <a href=\"https://www.seek.com.au\" target=\"_blank\" title=\"Search job listings\">seek.com.au</a>,\n",
       " <a href=\"http://www.carsguide.com.au/\" target=\"_blank\" title=\"Search for cars\">carsguide.com.au</a>,\n",
       " <a href=\"http://www.foxsports.com.au/\" target=\"_blank\" title=\"Sports news\">foxsports.com.au</a>,\n",
       " <a href=\"http://www.homeguru.com.au/\" target=\"_blank\" title=\"Home valuations\">homeguru.com.au</a>,\n",
       " <a href=\"http://www.realestate.co.nz/?arcn&amp;rsf=globalnav\" target=\"_blank\" title=\"Property for sale and rent in New Zealand\">realestate.co.nz</a>,\n",
       " <a href=\"http://www.squarefoot.com.hk\" target=\"_blank\" title=\"squarefoot.com.hk\">squarefoot.com.hk</a>,\n",
       " <a href=\"https://askizzy.org.au\" target=\"_blank\" title=\"Ask Izzy: The A to Z directory of homeless help\">askizzy.org.au</a>,\n",
       " <a href=\"http://www.homeimprovementpages.com.au/\" target=\"_blank\" title=\"hipages.com.au\">hipages.com.au</a>,\n",
       " <a href=\"https://www.makaan.com/\" target=\"_blank\" title=\"makaan.com\">makaan.com</a>,\n",
       " <a href=\"https://www.proptiger.com/\" target=\"_blank\" title=\"proptiger.com\">proptiger.com</a>,\n",
       " <a href=\"http://www.omniture.com\" title=\"Web Analytics\"><img alt=\"\" border=\"0\" height=\"1\" src=\"//reagroup.122.2o7.net/b/ss/rea-prd/1/H.17--NS/0\" width=\"1\"/></a>]"
      ]
     },
     "execution_count": 40,
     "metadata": {},
     "output_type": "execute_result"
    }
   ],
   "source": [
    "soup.find_all('a')"
   ]
  },
  {
   "cell_type": "code",
   "execution_count": 38,
   "metadata": {},
   "outputs": [
    {
     "data": {
      "text/plain": [
       "'https://www.realestate.com.au/rent/in-west+perth%2c+wa+6005%3b+floreat%2c+wa+6014%3b+leederville%2c+wa+6007%3b+cottesloe%2c+wa+6011%3b+north+perth%2c+wa+6006%3b/list-1?activeSort=price-desc\\n'"
      ]
     },
     "execution_count": 38,
     "metadata": {},
     "output_type": "execute_result"
    }
   ],
   "source": [
    "url"
   ]
  },
  {
   "cell_type": "code",
   "execution_count": null,
   "metadata": {
    "collapsed": true
   },
   "outputs": [],
   "source": []
  }
 ],
 "metadata": {
  "kernelspec": {
   "display_name": "Python 3",
   "language": "python",
   "name": "python3"
  },
  "language_info": {
   "codemirror_mode": {
    "name": "ipython",
    "version": 3
   },
   "file_extension": ".py",
   "mimetype": "text/x-python",
   "name": "python",
   "nbconvert_exporter": "python",
   "pygments_lexer": "ipython3",
   "version": "3.6.1"
  }
 },
 "nbformat": 4,
 "nbformat_minor": 2
}
