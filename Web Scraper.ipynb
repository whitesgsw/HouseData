{
 "cells": [
  {
   "cell_type": "code",
   "execution_count": 1,
   "metadata": {},
   "outputs": [
    {
     "ename": "IndexError",
     "evalue": "list index out of range",
     "output_type": "error",
     "traceback": [
      "\u001b[1;31m---------------------------------------------------------------------------\u001b[0m",
      "\u001b[1;31mIndexError\u001b[0m                                Traceback (most recent call last)",
      "\u001b[1;32m<ipython-input-1-11099ab5f340>\u001b[0m in \u001b[0;36m<module>\u001b[1;34m()\u001b[0m\n\u001b[0;32m      8\u001b[0m \u001b[0msoup\u001b[0m \u001b[1;33m=\u001b[0m \u001b[0mBeautifulSoup\u001b[0m\u001b[1;33m(\u001b[0m\u001b[0mc\u001b[0m\u001b[1;33m,\u001b[0m \u001b[1;34m\"html.parser\"\u001b[0m\u001b[1;33m)\u001b[0m\u001b[1;33m\u001b[0m\u001b[0m\n\u001b[0;32m      9\u001b[0m \u001b[0mdata\u001b[0m \u001b[1;33m=\u001b[0m \u001b[0msoup\u001b[0m\u001b[1;33m.\u001b[0m\u001b[0mfind_all\u001b[0m\u001b[1;33m(\u001b[0m\u001b[1;34m\"li\"\u001b[0m\u001b[1;33m,\u001b[0m\u001b[1;33m{\u001b[0m\u001b[1;34m\"class\"\u001b[0m\u001b[1;33m:\u001b[0m\u001b[1;34m\"search-results__listing\"\u001b[0m\u001b[1;33m}\u001b[0m\u001b[1;33m)\u001b[0m \u001b[1;31m#get dataset of content needed\u001b[0m\u001b[1;33m\u001b[0m\u001b[0m\n\u001b[1;32m---> 10\u001b[1;33m \u001b[0mtotal_pages\u001b[0m \u001b[1;33m=\u001b[0m \u001b[0mint\u001b[0m\u001b[1;33m(\u001b[0m\u001b[0msoup\u001b[0m\u001b[1;33m.\u001b[0m\u001b[0mfind_all\u001b[0m\u001b[1;33m(\u001b[0m\u001b[1;34m\"a\"\u001b[0m\u001b[1;33m,\u001b[0m\u001b[1;33m{\u001b[0m\u001b[1;34m\"class\"\u001b[0m\u001b[1;33m:\u001b[0m\u001b[1;34m\"paginator__page-button\"\u001b[0m\u001b[1;33m}\u001b[0m\u001b[1;33m)\u001b[0m\u001b[1;33m[\u001b[0m\u001b[1;33m-\u001b[0m\u001b[1;36m1\u001b[0m\u001b[1;33m]\u001b[0m\u001b[1;33m.\u001b[0m\u001b[0mtext\u001b[0m\u001b[1;33m)\u001b[0m \u001b[1;31m#find total number of pages in above search\u001b[0m\u001b[1;33m\u001b[0m\u001b[0m\n\u001b[0m\u001b[0;32m     11\u001b[0m \u001b[1;33m\u001b[0m\u001b[0m\n\u001b[0;32m     12\u001b[0m \u001b[1;33m\u001b[0m\u001b[0m\n",
      "\u001b[1;31mIndexError\u001b[0m: list index out of range"
     ]
    }
   ],
   "source": [
    "import requests\n",
    "from bs4 import BeautifulSoup\n",
    "import pandas as pd\n",
    "\n",
    "url = \"https://www.realestate.com.au/rent/in-west+perth%2c+wa+6005%3b+floreat%2c+wa+6014%3b+leederville%2c+wa+6007%3b+cottesloe%2c+wa+6011%3b+north+perth%2c+wa+6006%3b/list-1?activeSort=price-desc\"\n",
    "r = requests.get(url)\n",
    "c = r.content #download content of webpage\n",
    "soup = BeautifulSoup(c, \"html.parser\")\n",
    "data = soup.find_all(\"li\",{\"class\":\"search-results__listing\"}) #get dataset of content needed\n",
    "total_pages = int(soup.find_all(\"a\",{\"class\":\"paginator__page-button\"})[-1].text) #find total number of pages in above search\n",
    "\n",
    "\n",
    "df_list = [] #list to create dataframe from dictionaries\n",
    "\n",
    "for page in range(1,total_pages):    \n",
    "    r = requests.get(url+\"&page=\"+str(page))\n",
    "    c = r.content #download content of webpage\n",
    "\n",
    "    soup = BeautifulSoup(c, \"html.parser\")\n",
    "    data = soup.find_all(\"li\",{\"class\":\"search-results__listing\"}) #get dataset of content needed\n",
    "\n",
    "    for item in data:\n",
    "        d = {} #dictionary to store iterations\n",
    "        try:\n",
    "            d['Price'] = item.find(\"p\",{\"class\":\"listing-result__price\"}).text #price data\n",
    "            d['Address'] = item.find(\"a\" ,{\"class\":\"address is-two-lines listing-result__address\"}).text #address\n",
    "            d['Beds'] = item.find_all(\"span\" ,{\"class\":\"property-feature__feature\"})[0].text #number of beds\n",
    "            d['Baths'] = item.find_all(\"span\" ,{\"class\":\"property-feature__feature\"})[1].text #number of baths\n",
    "            d['Parking'] = item.find_all(\"span\" ,{\"class\":\"property-feature__feature\"})[2].text #number of parking bays\n",
    "            d['Link'] = item.find(\"a\", {\"class\":\"address is-two-lines listing-result__address\"}).get('href') #link address\n",
    "        except:\n",
    "            pass\n",
    "        df_list.append(d)"
   ]
  },
  {
   "cell_type": "code",
   "execution_count": 6,
   "metadata": {
    "collapsed": true
   },
   "outputs": [],
   "source": [
    "rentals = pd.DataFrame(df_list)"
   ]
  },
  {
   "cell_type": "code",
   "execution_count": 10,
   "metadata": {
    "collapsed": true
   },
   "outputs": [],
   "source": [
    "rentals.dropna().set_index('Address').to_csv('houselist.csv')"
   ]
  }
 ],
 "metadata": {
  "kernelspec": {
   "display_name": "Python 3",
   "language": "python",
   "name": "python3"
  },
  "language_info": {
   "codemirror_mode": {
    "name": "ipython",
    "version": 3
   },
   "file_extension": ".py",
   "mimetype": "text/x-python",
   "name": "python",
   "nbconvert_exporter": "python",
   "pygments_lexer": "ipython3",
   "version": "3.6.1"
  }
 },
 "nbformat": 4,
 "nbformat_minor": 2
}
